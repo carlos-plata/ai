{
 "cells": [
  {
   "cell_type": "markdown",
   "metadata": {},
   "source": [
    "### Please install the required Python modules/SDKs\n"
   ]
  },
  {
   "cell_type": "code",
   "execution_count": null,
   "metadata": {},
   "outputs": [],
   "source": [
    "!pip install azure-ai-formrecognizer\n",
    "\n",
    "import sys"
   ]
  },
  {
   "cell_type": "code",
   "execution_count": 16,
   "metadata": {},
   "outputs": [],
   "source": [
    "from azure.core.credentials import AzureKeyCredential\n",
    "from azure.ai.formrecognizer import FormRecognizerClient"
   ]
  },
  {
   "cell_type": "markdown",
   "metadata": {},
   "source": [
    "### Enter your resource key and end point and instantiate object"
   ]
  },
  {
   "cell_type": "code",
   "execution_count": 17,
   "metadata": {},
   "outputs": [],
   "source": [
    "AZURE_FORM_RECOGNIZER_ENDPOINT = \"\"\n",
    "AZURE_FORM_RECOGNIZER_KEY = \"\""
   ]
  },
  {
   "cell_type": "code",
   "execution_count": 18,
   "metadata": {},
   "outputs": [],
   "source": [
    "endpoint = AZURE_FORM_RECOGNIZER_ENDPOINT\n",
    "key = AZURE_FORM_RECOGNIZER_KEY"
   ]
  },
  {
   "cell_type": "code",
   "execution_count": 19,
   "metadata": {},
   "outputs": [],
   "source": [
    "form_recognizer_client = FormRecognizerClient(endpoint=endpoint, credential=AzureKeyCredential(key))"
   ]
  },
  {
   "cell_type": "markdown",
   "metadata": {},
   "source": [
    "## Extract business card info using prebuilt Azure Form Recognizer model"
   ]
  },
  {
   "cell_type": "markdown",
   "metadata": {},
   "source": [
    "### Enter source document URL and extract results"
   ]
  },
  {
   "cell_type": "code",
   "execution_count": 20,
   "metadata": {},
   "outputs": [],
   "source": [
    "content_url = \"https://raw.githubusercontent.com/udacity/cd0461-building-computer-vision-solutions-with-azure-exercises/main/resources/avkash-bizcard.jpg\""
   ]
  },
  {
   "cell_type": "code",
   "execution_count": 21,
   "metadata": {},
   "outputs": [],
   "source": [
    "# Fill in the code to begin extracting info from business card\n",
    "biz_card_content_from_url = form_recognizer_client.begin_recognize_business_cards_from_url(content_url)"
   ]
  },
  {
   "cell_type": "markdown",
   "metadata": {},
   "source": [
    "### Process results"
   ]
  },
  {
   "cell_type": "code",
   "execution_count": 22,
   "metadata": {},
   "outputs": [],
   "source": [
    "# Fill in the code to begin processing results\n",
    "collected_biz_cards = biz_card_content_from_url.result()"
   ]
  },
  {
   "cell_type": "code",
   "execution_count": null,
   "metadata": {},
   "outputs": [],
   "source": [
    "collected_biz_cards"
   ]
  },
  {
   "cell_type": "code",
   "execution_count": null,
   "metadata": {},
   "outputs": [],
   "source": [
    "type(collected_biz_cards[0])"
   ]
  },
  {
   "cell_type": "markdown",
   "metadata": {},
   "source": [
    "### Process JSON data\n",
    "\n",
    "* I have used the code snippet from the Azure SDK sample to process the JSON data received from the Azure form recognizer.\n",
    "* https://github.com/Azure/azure-sdk-for-python/blob/main/sdk/formrecognizer/azure-ai-formrecognizer/samples/\n"
   ]
  },
  {
   "cell_type": "code",
   "execution_count": 25,
   "metadata": {},
   "outputs": [],
   "source": [
    "# Enter your own code below to process the fields in your business card\n",
    "\n",
    "def get_biz_card_details(business_card):\n",
    "    contact_names = business_card.fields.get(\"ContactNames\")\n",
    "    if contact_names:\n",
    "        for contact_name in contact_names.value:\n",
    "            print(\"Contact First Name: {} has confidence: {}\".format(\n",
    "                contact_name.value[\"FirstName\"].value, contact_name.value[\"FirstName\"].confidence\n",
    "            ))\n",
    "            print(\"Contact Last Name: {} has confidence: {}\".format(\n",
    "                contact_name.value[\"LastName\"].value, contact_name.value[\"LastName\"].confidence\n",
    "            ))\n",
    "    company_names = business_card.fields.get(\"CompanyNames\")\n",
    "    if company_names:\n",
    "        for company_name in company_names.value:\n",
    "            print(\"Company Name: {} has confidence: {}\".format(company_name.value, company_name.confidence))\n",
    "    departments = business_card.fields.get(\"Departments\")\n",
    "    if departments:\n",
    "        for department in departments.value:\n",
    "            print(\"Department: {} has confidence: {}\".format(department.value, department.confidence))\n",
    "    job_titles = business_card.fields.get(\"JobTitles\")\n",
    "    if job_titles:\n",
    "        for job_title in job_titles.value:\n",
    "            print(\"Job Title: {} has confidence: {}\".format(job_title.value, job_title.confidence))\n",
    "    emails = business_card.fields.get(\"Emails\")\n",
    "    if emails:\n",
    "        for email in emails.value:\n",
    "            print(\"Email: {} has confidence: {}\".format(email.value, email.confidence))\n"
   ]
  },
  {
   "cell_type": "code",
   "execution_count": null,
   "metadata": {},
   "outputs": [],
   "source": [
    "get_biz_card_details(collected_biz_cards[0])"
   ]
  },
  {
   "cell_type": "code",
   "execution_count": null,
   "metadata": {},
   "outputs": [],
   "source": [
    "for index_id, business_card in enumerate(collected_biz_cards):\n",
    "    print(\"Displaying business card details ....... # {}\".format(index_id+1))\n",
    "    get_biz_card_details(business_card)\n",
    "    print(\"---------------- EOL -------------------------\")"
   ]
  },
  {
   "cell_type": "markdown",
   "metadata": {},
   "source": [
    "## Extract invoice info using prebuilt Azure Form Recognizer model"
   ]
  },
  {
   "cell_type": "markdown",
   "metadata": {},
   "source": [
    "### Enter source document URL and extract results"
   ]
  },
  {
   "cell_type": "code",
   "execution_count": 28,
   "metadata": {},
   "outputs": [],
   "source": [
    "content_url = \"https://raw.githubusercontent.com/udacity/cd0461-building-computer-vision-solutions-with-azure-exercises/main/resources/invoice-2.png\""
   ]
  },
  {
   "cell_type": "code",
   "execution_count": 29,
   "metadata": {},
   "outputs": [],
   "source": [
    "# Fill in the code to begin extracting info from invoice\n",
    "invoices_from_url = form_recognizer_client.begin_recognize_invoices_from_url(content_url)"
   ]
  },
  {
   "cell_type": "markdown",
   "metadata": {},
   "source": [
    "### Process results"
   ]
  },
  {
   "cell_type": "code",
   "execution_count": 30,
   "metadata": {},
   "outputs": [],
   "source": [
    "# Fill in the code to begin processing results\n",
    "\n",
    "collected_invoices = invoices_from_url.result()"
   ]
  },
  {
   "cell_type": "code",
   "execution_count": null,
   "metadata": {},
   "outputs": [],
   "source": [
    "collected_invoices"
   ]
  },
  {
   "cell_type": "code",
   "execution_count": null,
   "metadata": {},
   "outputs": [],
   "source": [
    "len(collected_invoices)"
   ]
  },
  {
   "cell_type": "code",
   "execution_count": null,
   "metadata": {},
   "outputs": [],
   "source": [
    "type(collected_invoices[0])"
   ]
  },
  {
   "cell_type": "markdown",
   "metadata": {},
   "source": [
    "### Process JSON data"
   ]
  },
  {
   "cell_type": "code",
   "execution_count": 34,
   "metadata": {},
   "outputs": [],
   "source": [
    "# Enter your own code below to process the fields in your invoice\n",
    "\n",
    "def get_invoice_details(invoice):\n",
    "    vendor_name = invoice.fields.get(\"VendorName\")\n",
    "    if vendor_name:\n",
    "        print(\"Vendor Name: {} has confidence: {}\".format(vendor_name.value, vendor_name.confidence))\n",
    "    vendor_address = invoice.fields.get(\"VendorAddress\")\n",
    "    if vendor_address:\n",
    "        print(\"Vendor Address: {} has confidence: {}\".format(vendor_address.value, vendor_address.confidence))\n",
    "    vendor_address_recipient = invoice.fields.get(\"VendorAddressRecipient\")\n",
    "    if vendor_address_recipient:\n",
    "        print(\"Vendor Address Recipient: {} has confidence: {}\".format(vendor_address_recipient.value, vendor_address_recipient.confidence))\n",
    "    customer_name = invoice.fields.get(\"CustomerName\")\n",
    "    if customer_name:\n",
    "        print(\"Customer Name: {} has confidence: {}\".format(customer_name.value, customer_name.confidence))\n",
    "    customer_id = invoice.fields.get(\"CustomerId\")\n",
    "    if customer_id:\n",
    "        print(\"Customer Id: {} has confidence: {}\".format(customer_id.value, customer_id.confidence))\n",
    "    customer_address = invoice.fields.get(\"CustomerAddress\")\n",
    "    if customer_address:\n",
    "        print(\"Customer Address: {} has confidence: {}\".format(customer_address.value, customer_address.confidence))\n",
    "    customer_address_recipient = invoice.fields.get(\"CustomerAddressRecipient\")\n",
    "    if customer_address_recipient:\n",
    "        print(\"Customer Address Recipient: {} has confidence: {}\".format(customer_address_recipient.value, customer_address_recipient.confidence))\n"
   ]
  },
  {
   "cell_type": "code",
   "execution_count": null,
   "metadata": {},
   "outputs": [],
   "source": [
    "get_invoice_details(collected_invoices[0])"
   ]
  },
  {
   "cell_type": "code",
   "execution_count": null,
   "metadata": {},
   "outputs": [],
   "source": [
    "for index_id, invoice in enumerate(collected_invoices):\n",
    "    print(\"Displaying Invoice details ....... # {}\".format(index_id+1))\n",
    "    get_invoice_details(invoice)\n",
    "    print(\"---------------- EOL -------------------------\")"
   ]
  },
  {
   "cell_type": "code",
   "execution_count": null,
   "metadata": {},
   "outputs": [],
   "source": []
  }
 ],
 "metadata": {
  "kernelspec": {
   "display_name": "Python 3",
   "language": "python",
   "name": "python3"
  },
  "language_info": {
   "codemirror_mode": {
    "name": "ipython",
    "version": 3
   },
   "file_extension": ".py",
   "mimetype": "text/x-python",
   "name": "python",
   "nbconvert_exporter": "python",
   "pygments_lexer": "ipython3",
   "version": "3.11.9"
  }
 },
 "nbformat": 4,
 "nbformat_minor": 2
}
